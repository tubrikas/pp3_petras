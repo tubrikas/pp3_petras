{
 "cells": [
  {
   "cell_type": "markdown",
   "id": "b338ff2e",
   "metadata": {},
   "source": [
    "# PP3: Pandas"
   ]
  },
  {
   "cell_type": "markdown",
   "id": "5a41f4ff",
   "metadata": {},
   "source": [
    "## Section 1: Getting and knowing your data"
   ]
  },
  {
   "cell_type": "markdown",
   "id": "cb63ad82",
   "metadata": {},
   "source": [
    "### Step 1. Import the necessary libraries"
   ]
  },
  {
   "cell_type": "code",
   "execution_count": null,
   "id": "1a771838",
   "metadata": {},
   "outputs": [],
   "source": [
    "import pandas as pd"
   ]
  },
  {
   "cell_type": "markdown",
   "id": "8894765f",
   "metadata": {},
   "source": [
    "### Step 2. Import the dataset from this [address](https://raw.githubusercontent.com/justmarkham/DAT8/master/data/u.user). "
   ]
  },
  {
   "cell_type": "code",
   "execution_count": null,
   "id": "095c3349",
   "metadata": {},
   "outputs": [],
   "source": [
    "url = \"https://raw.githubusercontent.com/justmarkham/DAT8/master/data/u.user\"\n",
    "\n",
    "df = pd.read_csv(url, sep='|', index_col='user_id')"
   ]
  },
  {
   "cell_type": "markdown",
   "id": "bb471920",
   "metadata": {},
   "source": [
    "### Step 3. Assign it to a variable called users and use the 'user_id' as index"
   ]
  },
  {
   "cell_type": "code",
   "execution_count": null,
   "id": "029b290f",
   "metadata": {},
   "outputs": [],
   "source": [
    "users = df"
   ]
  },
  {
   "cell_type": "markdown",
   "id": "0e757d1f",
   "metadata": {},
   "source": [
    "### Step 4. See the first 25 entries"
   ]
  },
  {
   "cell_type": "code",
   "execution_count": null,
   "id": "9b87b173",
   "metadata": {
    "scrolled": true
   },
   "outputs": [],
   "source": [
    "users[:25]"
   ]
  },
  {
   "cell_type": "markdown",
   "id": "bd80aafc",
   "metadata": {},
   "source": [
    "### Step 5. See the last 10 entries"
   ]
  },
  {
   "cell_type": "code",
   "execution_count": null,
   "id": "f58c85c1",
   "metadata": {
    "scrolled": true
   },
   "outputs": [],
   "source": [
    "users.tail(10)"
   ]
  },
  {
   "cell_type": "markdown",
   "id": "e65bd1c8",
   "metadata": {},
   "source": [
    "### Step 6. What is the number of observations in the dataset?"
   ]
  },
  {
   "cell_type": "code",
   "execution_count": null,
   "id": "2178d579",
   "metadata": {},
   "outputs": [],
   "source": [
    "users.shape[0]"
   ]
  },
  {
   "cell_type": "code",
   "execution_count": null,
   "id": "2077253c",
   "metadata": {},
   "outputs": [],
   "source": [
    "users.info()"
   ]
  },
  {
   "cell_type": "markdown",
   "id": "218a3880",
   "metadata": {},
   "source": [
    "### Step 7. What is the number of columns in the dataset?"
   ]
  },
  {
   "cell_type": "code",
   "execution_count": null,
   "id": "d569393f",
   "metadata": {},
   "outputs": [],
   "source": [
    "users.shape[1]"
   ]
  },
  {
   "cell_type": "markdown",
   "id": "2a146809",
   "metadata": {},
   "source": [
    "### Step 8. Print the name of all the columns."
   ]
  },
  {
   "cell_type": "code",
   "execution_count": null,
   "id": "9cf2fa51",
   "metadata": {},
   "outputs": [],
   "source": [
    "users.columns"
   ]
  },
  {
   "cell_type": "markdown",
   "id": "2b96bd9b",
   "metadata": {},
   "source": [
    "### Step 9. How is the dataset indexed?"
   ]
  },
  {
   "cell_type": "code",
   "execution_count": null,
   "id": "dd192018",
   "metadata": {},
   "outputs": [],
   "source": [
    "users.index"
   ]
  },
  {
   "cell_type": "markdown",
   "id": "6427a9b7",
   "metadata": {},
   "source": [
    "### Step 10. What is the data type of each column?"
   ]
  },
  {
   "cell_type": "code",
   "execution_count": null,
   "id": "1e75ae0a",
   "metadata": {},
   "outputs": [],
   "source": [
    "users.dtypes"
   ]
  },
  {
   "cell_type": "markdown",
   "id": "e9676543",
   "metadata": {},
   "source": [
    "### Step 11. Print only the occupation column"
   ]
  },
  {
   "cell_type": "code",
   "execution_count": null,
   "id": "e34386ba",
   "metadata": {},
   "outputs": [],
   "source": [
    "users['occupation']"
   ]
  },
  {
   "cell_type": "markdown",
   "id": "41b56d2e",
   "metadata": {},
   "source": [
    "### Step 12. How many different occupations are in this dataset?"
   ]
  },
  {
   "cell_type": "code",
   "execution_count": null,
   "id": "0051bdb3",
   "metadata": {},
   "outputs": [],
   "source": [
    "users['occupation'].nunique()"
   ]
  },
  {
   "cell_type": "markdown",
   "id": "4dba5819",
   "metadata": {},
   "source": [
    "### Step 13. What is the most frequent occupation?"
   ]
  },
  {
   "cell_type": "code",
   "execution_count": null,
   "id": "d0778f17",
   "metadata": {},
   "outputs": [],
   "source": [
    "users['occupation'].value_counts().idxmax()"
   ]
  },
  {
   "cell_type": "markdown",
   "id": "4386018b",
   "metadata": {},
   "source": [
    "### Step 14. Summarize the DataFrame."
   ]
  },
  {
   "cell_type": "code",
   "execution_count": null,
   "id": "aa3e5433",
   "metadata": {},
   "outputs": [],
   "source": [
    "users.info()"
   ]
  },
  {
   "cell_type": "markdown",
   "id": "79bd4c12",
   "metadata": {},
   "source": [
    "### Step 15. Summarize all the columns"
   ]
  },
  {
   "cell_type": "code",
   "execution_count": null,
   "id": "8b5ea300",
   "metadata": {},
   "outputs": [],
   "source": [
    "users.describe(include='all')"
   ]
  },
  {
   "cell_type": "markdown",
   "id": "42126f94",
   "metadata": {},
   "source": [
    "### Step 16. Summarize only the occupation column"
   ]
  },
  {
   "cell_type": "code",
   "execution_count": null,
   "id": "28b3daa9",
   "metadata": {},
   "outputs": [],
   "source": [
    "users['occupation'].describe()"
   ]
  },
  {
   "cell_type": "markdown",
   "id": "e368e6f5",
   "metadata": {},
   "source": [
    "### Step 17. What is the mean age of users?"
   ]
  },
  {
   "cell_type": "code",
   "execution_count": null,
   "id": "3106a605",
   "metadata": {},
   "outputs": [],
   "source": [
    "users['age'].mean()"
   ]
  },
  {
   "cell_type": "markdown",
   "id": "1e65e834",
   "metadata": {},
   "source": [
    "### Step 18. What is the age with least occurrence?"
   ]
  },
  {
   "cell_type": "code",
   "execution_count": null,
   "id": "5ee5a0f2",
   "metadata": {},
   "outputs": [],
   "source": [
    "users['age'].value_counts().idxmin()"
   ]
  },
  {
   "cell_type": "markdown",
   "id": "f3303768",
   "metadata": {},
   "source": [
    "## Section 2: Filtering and Sorting"
   ]
  },
  {
   "cell_type": "markdown",
   "id": "f9f86817",
   "metadata": {},
   "source": [
    "### Step 1. Import the necessary libraries"
   ]
  },
  {
   "cell_type": "code",
   "execution_count": null,
   "id": "746df2d7",
   "metadata": {},
   "outputs": [],
   "source": [
    "import pandas as pd"
   ]
  },
  {
   "cell_type": "markdown",
   "id": "00896ee1",
   "metadata": {},
   "source": [
    "### Step 2. Import the dataset from this [address](https://raw.githubusercontent.com/guipsamora/pandas_exercises/master/02_Filtering_%26_Sorting/Euro12/Euro_2012_stats_TEAM.csv). "
   ]
  },
  {
   "cell_type": "code",
   "execution_count": null,
   "id": "27a98646",
   "metadata": {},
   "outputs": [],
   "source": [
    "url = 'https://raw.githubusercontent.com/guipsamora/pandas_exercises/master/02_Filtering_%26_Sorting/Euro12/Euro_2012_stats_TEAM.csv'\n",
    "df = pd.read_csv(url)"
   ]
  },
  {
   "cell_type": "markdown",
   "id": "d4d5c165",
   "metadata": {},
   "source": [
    "### Step 3. Assign it to a variable called euro12."
   ]
  },
  {
   "cell_type": "code",
   "execution_count": null,
   "id": "2976e766",
   "metadata": {},
   "outputs": [],
   "source": [
    "euro12 = df"
   ]
  },
  {
   "cell_type": "code",
   "execution_count": null,
   "id": "fe437832",
   "metadata": {},
   "outputs": [],
   "source": [
    "euro12.head()"
   ]
  },
  {
   "cell_type": "markdown",
   "id": "e54e7b26",
   "metadata": {},
   "source": [
    "### Step 4. Select only the Goal column."
   ]
  },
  {
   "cell_type": "code",
   "execution_count": null,
   "id": "0d68252a",
   "metadata": {},
   "outputs": [],
   "source": [
    "euro12['Goals']"
   ]
  },
  {
   "cell_type": "markdown",
   "id": "3ba9eb18",
   "metadata": {},
   "source": [
    "### Step 5. How many team participated in the Euro2012?"
   ]
  },
  {
   "cell_type": "code",
   "execution_count": null,
   "id": "2908418c",
   "metadata": {},
   "outputs": [],
   "source": [
    "euro12['Team'].nunique()"
   ]
  },
  {
   "cell_type": "markdown",
   "id": "974c9458",
   "metadata": {},
   "source": [
    "### Step 6. What is the number of columns in the dataset?"
   ]
  },
  {
   "cell_type": "code",
   "execution_count": null,
   "id": "149f8fb8",
   "metadata": {},
   "outputs": [],
   "source": [
    "euro12.shape[1]"
   ]
  },
  {
   "cell_type": "markdown",
   "id": "d4e7f6ab",
   "metadata": {},
   "source": [
    "### Step 7. View only the columns Team, Yellow Cards and Red Cards and assign them to a dataframe called discipline"
   ]
  },
  {
   "cell_type": "code",
   "execution_count": null,
   "id": "7a70b451",
   "metadata": {},
   "outputs": [],
   "source": [
    "discipline = euro12[['Team', 'Yellow Cards', 'Red Cards']]\n",
    "discipline"
   ]
  },
  {
   "cell_type": "markdown",
   "id": "e784fb9e",
   "metadata": {},
   "source": [
    "### Step 8. Sort the teams by Red Cards, then to Yellow Cards"
   ]
  },
  {
   "cell_type": "code",
   "execution_count": null,
   "id": "13ef25f4",
   "metadata": {
    "scrolled": true
   },
   "outputs": [],
   "source": [
    "discipline.sort_values(by=['Red Cards', 'Yellow Cards'], ascending=False)"
   ]
  },
  {
   "cell_type": "markdown",
   "id": "fde074ed",
   "metadata": {},
   "source": [
    "### Step 9. Calculate the mean Yellow Cards given per Team"
   ]
  },
  {
   "cell_type": "code",
   "execution_count": null,
   "id": "f3b78c91",
   "metadata": {},
   "outputs": [],
   "source": [
    "euro12.groupby('Team')['Yellow Cards'].mean()"
   ]
  },
  {
   "cell_type": "markdown",
   "id": "00ae5eb8",
   "metadata": {},
   "source": [
    "### Step 10. Filter teams that scored more than 6 goals"
   ]
  },
  {
   "cell_type": "code",
   "execution_count": null,
   "id": "64eed392",
   "metadata": {},
   "outputs": [],
   "source": [
    "euro12[euro12['Goals'] > 6]"
   ]
  },
  {
   "cell_type": "markdown",
   "id": "03aad66a",
   "metadata": {},
   "source": [
    "### Step 11. Select the teams that start with G"
   ]
  },
  {
   "cell_type": "code",
   "execution_count": null,
   "id": "874b15c3",
   "metadata": {},
   "outputs": [],
   "source": [
    "euro12[euro12['Team'].str.startswith('G')]"
   ]
  },
  {
   "cell_type": "markdown",
   "id": "9ed901dd",
   "metadata": {},
   "source": [
    "### Step 12. Select the first 7 columns"
   ]
  },
  {
   "cell_type": "code",
   "execution_count": null,
   "id": "3f87316e",
   "metadata": {},
   "outputs": [],
   "source": [
    "euro12.iloc[:, :7]"
   ]
  },
  {
   "cell_type": "markdown",
   "id": "15593c76",
   "metadata": {},
   "source": [
    "### Step 13. Select all columns except the last 3."
   ]
  },
  {
   "cell_type": "code",
   "execution_count": null,
   "id": "4c755212",
   "metadata": {},
   "outputs": [],
   "source": [
    "euro12.iloc[:, :-3]"
   ]
  },
  {
   "cell_type": "markdown",
   "id": "bd96dc64",
   "metadata": {},
   "source": [
    "### Step 14. Present only the Shooting Accuracy from England, Italy and Russia"
   ]
  },
  {
   "cell_type": "code",
   "execution_count": null,
   "id": "aa451946",
   "metadata": {},
   "outputs": [],
   "source": [
    "euro12.loc[euro12['Team'].isin(['England', 'Italy', 'Russia']), ['Team', 'Shooting Accuracy']]"
   ]
  },
  {
   "cell_type": "markdown",
   "id": "56ffa63b",
   "metadata": {},
   "source": [
    "## Section 3: Grouping"
   ]
  },
  {
   "cell_type": "markdown",
   "id": "907efa1f",
   "metadata": {},
   "source": [
    "### Step 1. Import the necessary libraries"
   ]
  },
  {
   "cell_type": "code",
   "execution_count": null,
   "id": "60724404",
   "metadata": {},
   "outputs": [],
   "source": [
    "import pandas as pd"
   ]
  },
  {
   "cell_type": "markdown",
   "id": "08d87139",
   "metadata": {},
   "source": [
    "### Step 2. Import the dataset from this [address](https://raw.githubusercontent.com/justmarkham/DAT8/master/data/drinks.csv). "
   ]
  },
  {
   "cell_type": "code",
   "execution_count": null,
   "id": "48b59bb4",
   "metadata": {},
   "outputs": [],
   "source": [
    "url = 'https://raw.githubusercontent.com/justmarkham/DAT8/master/data/drinks.csv'\n",
    "df = pd.read_csv(url)\n"
   ]
  },
  {
   "cell_type": "markdown",
   "id": "ec6872ce",
   "metadata": {},
   "source": [
    "### Step 3. Assign it to a variable called drinks."
   ]
  },
  {
   "cell_type": "code",
   "execution_count": null,
   "id": "4839ebdc",
   "metadata": {},
   "outputs": [],
   "source": [
    "drinks = df"
   ]
  },
  {
   "cell_type": "code",
   "execution_count": null,
   "id": "8df7a9c5",
   "metadata": {},
   "outputs": [],
   "source": [
    "drinks.head()"
   ]
  },
  {
   "cell_type": "markdown",
   "id": "f5797352",
   "metadata": {},
   "source": [
    "### Step 4. Which continent drinks more beer on average?"
   ]
  },
  {
   "cell_type": "code",
   "execution_count": null,
   "id": "9598d104",
   "metadata": {},
   "outputs": [],
   "source": [
    "drinks.groupby('continent')['beer_servings'].mean().idxmax()"
   ]
  },
  {
   "cell_type": "markdown",
   "id": "7f6cc612",
   "metadata": {},
   "source": [
    "### Step 5. For each continent print the statistics for wine consumption."
   ]
  },
  {
   "cell_type": "code",
   "execution_count": null,
   "id": "1ef89cb2",
   "metadata": {},
   "outputs": [],
   "source": [
    "drinks.groupby('continent')['wine_servings'].describe()"
   ]
  },
  {
   "cell_type": "markdown",
   "id": "fb845470",
   "metadata": {},
   "source": [
    "### Step 6. Print the mean alcohol consumption per continent for every column"
   ]
  },
  {
   "cell_type": "code",
   "execution_count": null,
   "id": "4e588a9d",
   "metadata": {},
   "outputs": [],
   "source": [
    "drinks.groupby('continent').mean(numeric_only=True)"
   ]
  },
  {
   "cell_type": "markdown",
   "id": "e9434abc",
   "metadata": {},
   "source": [
    "### Step 7. Print the median alcohol consumption per continent for every column"
   ]
  },
  {
   "cell_type": "code",
   "execution_count": null,
   "id": "34a57ae2",
   "metadata": {},
   "outputs": [],
   "source": [
    "drinks.groupby('continent').median(numeric_only=True)"
   ]
  },
  {
   "cell_type": "markdown",
   "id": "a0ab2bd5",
   "metadata": {},
   "source": [
    "### Step 8. Print the mean, min and max values for spirit consumption.\n",
    "#### This time output a DataFrame"
   ]
  },
  {
   "cell_type": "code",
   "execution_count": null,
   "id": "93d9779b",
   "metadata": {},
   "outputs": [],
   "source": [
    "df = drinks.groupby('continent')['spirit_servings'].agg(['mean', 'min', 'max']).reset_index()"
   ]
  },
  {
   "cell_type": "code",
   "execution_count": null,
   "id": "26d7d780",
   "metadata": {},
   "outputs": [],
   "source": [
    "df"
   ]
  },
  {
   "cell_type": "markdown",
   "id": "9fe6c338",
   "metadata": {},
   "source": [
    "## Section 4: Apply"
   ]
  },
  {
   "cell_type": "markdown",
   "id": "2ac338e2",
   "metadata": {},
   "source": [
    "### Step 1. Import the necessary libraries"
   ]
  },
  {
   "cell_type": "code",
   "execution_count": null,
   "id": "55a7863f",
   "metadata": {},
   "outputs": [],
   "source": [
    "import pandas as pd"
   ]
  },
  {
   "cell_type": "markdown",
   "id": "d7d4e41b",
   "metadata": {},
   "source": [
    "### Step 2. Import the dataset from this [address](https://raw.githubusercontent.com/guipsamora/pandas_exercises/master/04_Apply/US_Crime_Rates/US_Crime_Rates_1960_2014.csv). "
   ]
  },
  {
   "cell_type": "code",
   "execution_count": null,
   "id": "dfeb2df9",
   "metadata": {},
   "outputs": [],
   "source": [
    "url = 'https://raw.githubusercontent.com/guipsamora/pandas_exercises/master/04_Apply/US_Crime_Rates/US_Crime_Rates_1960_2014.csv'\n",
    "df = pd.read_csv(url)\n"
   ]
  },
  {
   "cell_type": "markdown",
   "id": "c35b9589",
   "metadata": {},
   "source": [
    "### Step 3. Assign it to a variable called crime."
   ]
  },
  {
   "cell_type": "code",
   "execution_count": null,
   "id": "279afa18",
   "metadata": {},
   "outputs": [],
   "source": [
    "crime = df"
   ]
  },
  {
   "cell_type": "code",
   "execution_count": null,
   "id": "79be68b1",
   "metadata": {},
   "outputs": [],
   "source": [
    "crime.head()"
   ]
  },
  {
   "cell_type": "markdown",
   "id": "8af7de8e",
   "metadata": {},
   "source": [
    "### Step 4. What is the type of the columns?"
   ]
  },
  {
   "cell_type": "code",
   "execution_count": null,
   "id": "d6b6d061",
   "metadata": {},
   "outputs": [],
   "source": [
    "crime.dtypes"
   ]
  },
  {
   "cell_type": "markdown",
   "id": "0c0eda69",
   "metadata": {},
   "source": [
    "##### Have you noticed that the type of Year is int64. But pandas has a different type to work with Time Series. Let's see it now.\n",
    "\n",
    "### Step 5. Convert the type of the column Year to datetime64"
   ]
  },
  {
   "cell_type": "code",
   "execution_count": null,
   "id": "a7ddd5b4",
   "metadata": {},
   "outputs": [],
   "source": [
    "crime['Year'] = pd.to_datetime(crime['Year'], format='%Y')\n",
    "crime.dtypes"
   ]
  },
  {
   "cell_type": "markdown",
   "id": "a7bbcef2",
   "metadata": {},
   "source": [
    "### Step 6. Set the Year column as the index of the dataframe"
   ]
  },
  {
   "cell_type": "code",
   "execution_count": null,
   "id": "00dedda7",
   "metadata": {},
   "outputs": [],
   "source": [
    "crime = crime.set_index('Year')\n",
    "crime.head()"
   ]
  },
  {
   "cell_type": "markdown",
   "id": "f206d331",
   "metadata": {},
   "source": [
    "### Step 7. Delete the Total column"
   ]
  },
  {
   "cell_type": "code",
   "execution_count": null,
   "id": "1375fbfa",
   "metadata": {},
   "outputs": [],
   "source": [
    "crime = crime.drop('Total', axis=1)\n",
    "crime.head()"
   ]
  },
  {
   "cell_type": "markdown",
   "id": "218ea4cc",
   "metadata": {},
   "source": [
    "### Step 8. Group the year by decades and sum the values\n",
    "\n",
    "#### Pay attention to the Population column number, summing this column is a mistake"
   ]
  },
  {
   "cell_type": "code",
   "execution_count": null,
   "id": "614d78e5",
   "metadata": {
    "scrolled": true
   },
   "outputs": [],
   "source": [
    "crime['Decade'] = (crime.index.year // 10) * 10\n",
    "\n",
    "decade_grouped = crime.groupby('Decade').agg({\n",
    "    'Population': 'mean',\n",
    "    'Violent': 'sum',\n",
    "    'Property': 'sum',\n",
    "    'Murder': 'sum',\n",
    "    'Forcible_Rape': 'sum',\n",
    "    'Robbery': 'sum',\n",
    "    'Aggravated_assault': 'sum',\n",
    "    'Burglary': 'sum',\n",
    "    'Larceny_Theft': 'sum',\n",
    "    'Vehicle_Theft': 'sum'\n",
    "})\n",
    "decade_grouped"
   ]
  },
  {
   "cell_type": "markdown",
   "id": "0558e87e",
   "metadata": {},
   "source": [
    "### Step 9. What is the most dangerous decade to live in the US?"
   ]
  },
  {
   "cell_type": "code",
   "execution_count": null,
   "id": "12d8aa07",
   "metadata": {},
   "outputs": [],
   "source": [
    "decade_grouped['Total_Crime'] = decade_grouped['Violent'] + decade_grouped['Property']\n",
    "print(decade_grouped['Total_Crime'].idxmax())"
   ]
  },
  {
   "cell_type": "markdown",
   "id": "0f788d9d",
   "metadata": {},
   "source": [
    "## Section 5: Merge"
   ]
  },
  {
   "cell_type": "markdown",
   "id": "be4a96db",
   "metadata": {},
   "source": [
    "### Step 1. Import the necessary libraries"
   ]
  },
  {
   "cell_type": "code",
   "execution_count": null,
   "id": "f5f41559",
   "metadata": {},
   "outputs": [],
   "source": [
    "import pandas as pd"
   ]
  },
  {
   "cell_type": "markdown",
   "id": "d3e9fe0a",
   "metadata": {},
   "source": [
    "### Step 2. Create the 3 DataFrames based on the following raw data"
   ]
  },
  {
   "cell_type": "code",
   "execution_count": null,
   "id": "e821cbfa",
   "metadata": {
    "collapsed": true
   },
   "outputs": [],
   "source": [
    "raw_data_1 = {\n",
    "        'subject_id': ['1', '2', '3', '4', '5'],\n",
    "        'first_name': ['Alex', 'Amy', 'Allen', 'Alice', 'Ayoung'], \n",
    "        'last_name': ['Anderson', 'Ackerman', 'Ali', 'Aoni', 'Atiches']}\n",
    "\n",
    "raw_data_2 = {\n",
    "        'subject_id': ['4', '5', '6', '7', '8'],\n",
    "        'first_name': ['Billy', 'Brian', 'Bran', 'Bryce', 'Betty'], \n",
    "        'last_name': ['Bonder', 'Black', 'Balwner', 'Brice', 'Btisan']}\n",
    "\n",
    "raw_data_3 = {\n",
    "        'subject_id': ['1', '2', '3', '4', '5', '7', '8', '9', '10', '11'],\n",
    "        'test_id': [51, 15, 15, 61, 16, 14, 15, 1, 61, 16]}"
   ]
  },
  {
   "cell_type": "markdown",
   "id": "18fe3342",
   "metadata": {},
   "source": [
    "### Step 3. Assign each to a variable called data1, data2, data3"
   ]
  },
  {
   "cell_type": "code",
   "execution_count": null,
   "id": "90da0468",
   "metadata": {},
   "outputs": [],
   "source": [
    "data1 = pd.DataFrame(raw_data_1)\n",
    "data2 = pd.DataFrame(raw_data_2)\n",
    "data3 = pd.DataFrame(raw_data_3)"
   ]
  },
  {
   "cell_type": "markdown",
   "id": "3b793c7d",
   "metadata": {},
   "source": [
    "### Step 4. Join the two dataframes along rows and assign all_data"
   ]
  },
  {
   "cell_type": "code",
   "execution_count": null,
   "id": "41fdbc61",
   "metadata": {},
   "outputs": [],
   "source": [
    "all_data = pd.concat([data1, data2], ignore_index=True)\n",
    "all_data"
   ]
  },
  {
   "cell_type": "markdown",
   "id": "fc8c6f86",
   "metadata": {},
   "source": [
    "### Step 5. Join the two dataframes along columns and assing to all_data_col"
   ]
  },
  {
   "cell_type": "code",
   "execution_count": null,
   "id": "41459117",
   "metadata": {},
   "outputs": [],
   "source": [
    "all_data_col = pd.concat([data1, data2], axis=1)\n",
    "all_data_col"
   ]
  },
  {
   "cell_type": "markdown",
   "id": "9f09f1c3",
   "metadata": {},
   "source": [
    "### Step 6. Print data3"
   ]
  },
  {
   "cell_type": "code",
   "execution_count": null,
   "id": "2cea8f6e",
   "metadata": {},
   "outputs": [],
   "source": [
    "print(data3)"
   ]
  },
  {
   "cell_type": "markdown",
   "id": "ac4b35a7",
   "metadata": {},
   "source": [
    "### Step 7. Merge all_data and data3 along the subject_id value"
   ]
  },
  {
   "cell_type": "code",
   "execution_count": null,
   "id": "21f2115e",
   "metadata": {},
   "outputs": [],
   "source": [
    "pd.merge(all_data, data3, on='subject_id')"
   ]
  },
  {
   "cell_type": "markdown",
   "id": "12c4da3e",
   "metadata": {},
   "source": [
    "### Step 8. Merge only the data that has the same 'subject_id' on both data1 and data2"
   ]
  },
  {
   "cell_type": "code",
   "execution_count": null,
   "id": "db6200fe",
   "metadata": {},
   "outputs": [],
   "source": [
    "pd.merge(data1, data2, on='subject_id')"
   ]
  },
  {
   "cell_type": "markdown",
   "id": "b3105684",
   "metadata": {},
   "source": [
    "### Step 9. Merge all values in data1 and data2, with matching records from both sides where available."
   ]
  },
  {
   "cell_type": "code",
   "execution_count": null,
   "id": "a6bfa0e9",
   "metadata": {},
   "outputs": [],
   "source": [
    "pd.merge(data1, data2, on='subject_id', how='outer')"
   ]
  },
  {
   "cell_type": "markdown",
   "id": "f37cc51a",
   "metadata": {},
   "source": [
    "## Section 6: Stats"
   ]
  },
  {
   "cell_type": "markdown",
   "id": "7e1f46ce",
   "metadata": {},
   "source": [
    "### Introduction:\n",
    "\n",
    "The data have been modified to contain some missing values, identified by NaN.  \n",
    "Using pandas should make this exercise\n",
    "easier, in particular for the bonus question.\n",
    "\n",
    "You should be able to perform all of these operations without using\n",
    "a for loop or other looping construct.\n",
    "\n",
    "\n",
    "1. The data in 'wind.data' has the following format:"
   ]
  },
  {
   "cell_type": "code",
   "execution_count": null,
   "id": "b8473328",
   "metadata": {},
   "outputs": [],
   "source": [
    "\"\"\"\n",
    "Yr Mo Dy   RPT   VAL   ROS   KIL   SHA   BIR   DUB   CLA   MUL   CLO   BEL   MAL\n",
    "61  1  1 15.04 14.96 13.17  9.29   NaN  9.87 13.67 10.25 10.83 12.58 18.50 15.04\n",
    "61  1  2 14.71   NaN 10.83  6.50 12.62  7.67 11.50 10.04  9.79  9.67 17.54 13.83\n",
    "61  1  3 18.50 16.88 12.33 10.13 11.17  6.17 11.25   NaN  8.50  7.67 12.75 12.71\n",
    "\"\"\""
   ]
  },
  {
   "cell_type": "markdown",
   "id": "c6498c2f",
   "metadata": {},
   "source": [
    "   The first three columns are year, month and day.  The\n",
    "   remaining 12 columns are average windspeeds in knots at 12\n",
    "   locations in Ireland on that day.   \n",
    "\n",
    "   More information about the dataset go [here](wind.desc)."
   ]
  },
  {
   "cell_type": "markdown",
   "id": "c8dfa894",
   "metadata": {},
   "source": [
    "### Step 1. Import the necessary libraries"
   ]
  },
  {
   "cell_type": "code",
   "execution_count": null,
   "id": "651c1fe9",
   "metadata": {},
   "outputs": [],
   "source": [
    "import pandas as pd\n",
    "import numpy as np"
   ]
  },
  {
   "cell_type": "markdown",
   "id": "75ea3454",
   "metadata": {},
   "source": [
    "### Step 2. Import the dataset from this [address](https://raw.githubusercontent.com/guipsamora/pandas_exercises/master/06_Stats/Wind_Stats/wind.data)"
   ]
  },
  {
   "cell_type": "code",
   "execution_count": null,
   "id": "136e12c8",
   "metadata": {},
   "outputs": [],
   "source": [
    "url = \"https://raw.githubusercontent.com/guipsamora/pandas_exercises/master/06_Stats/Wind_Stats/wind.data\"\n",
    "df = pd.read_csv(url, sep=r\"\\s+\")\n",
    "\n"
   ]
  },
  {
   "cell_type": "code",
   "execution_count": null,
   "id": "ec1590ff",
   "metadata": {},
   "outputs": [],
   "source": [
    "df.head()"
   ]
  },
  {
   "cell_type": "markdown",
   "id": "30ef3fe0",
   "metadata": {},
   "source": [
    "### Step 3. Assign it to a variable called data and replace the first 3 columns by a proper datetime index."
   ]
  },
  {
   "cell_type": "code",
   "execution_count": null,
   "id": "838f1f8c",
   "metadata": {},
   "outputs": [],
   "source": [
    "data = df\n",
    "data['Yr'] = data['Yr'].apply(lambda x: 1900 + x if x > 20 else 2000 + x)\n",
    "\n",
    "data = data.rename(columns={'Yr': 'year', 'Mo': 'month', 'Dy': 'day'})\n",
    "\n",
    "data['date'] = pd.to_datetime(data[['year', 'month', 'day']])\n",
    "\n",
    "data = data.set_index('date')\n",
    "data = data.drop(['year', 'month', 'day'], axis=1)"
   ]
  },
  {
   "cell_type": "markdown",
   "id": "8ef2ebcb",
   "metadata": {},
   "source": [
    "### Step 4. Year 2061? Do we really have data from this year? Create a function to fix it and apply it."
   ]
  },
  {
   "cell_type": "code",
   "execution_count": null,
   "id": "6626a513",
   "metadata": {},
   "outputs": [],
   "source": [
    "def fix_year(dt):\n",
    "    if dt.year > 2020:\n",
    "        return dt.replace(year=dt.year - 100)\n",
    "    return dt\n",
    "\n",
    "data.index = data.index.map(fix_year)\n"
   ]
  },
  {
   "cell_type": "markdown",
   "id": "e3c19cc5",
   "metadata": {},
   "source": [
    "### Step 5. Set the right dates as the index. Pay attention at the data type, it should be datetime64[ns]."
   ]
  },
  {
   "cell_type": "code",
   "execution_count": null,
   "id": "b169ca16",
   "metadata": {},
   "outputs": [],
   "source": [
    "data.index = pd.to_datetime(data.index)\n",
    "data.index.dtype\n"
   ]
  },
  {
   "cell_type": "code",
   "execution_count": null,
   "id": "7153f8de",
   "metadata": {},
   "outputs": [],
   "source": [
    "import pandas.api.types as ptypes\n",
    "\n",
    "ptypes.is_datetime64_ns_dtype(data.index)"
   ]
  },
  {
   "cell_type": "markdown",
   "id": "906915e6",
   "metadata": {},
   "source": [
    "### Step 6. Compute how many values are missing for each location over the entire record.  \n",
    "#### They should be ignored in all calculations below. "
   ]
  },
  {
   "cell_type": "code",
   "execution_count": null,
   "id": "14aee622",
   "metadata": {},
   "outputs": [],
   "source": [
    "data.isnull().sum()"
   ]
  },
  {
   "cell_type": "markdown",
   "id": "6aa712c4",
   "metadata": {},
   "source": [
    "### Step 7. Compute how many non-missing values there are in total."
   ]
  },
  {
   "cell_type": "code",
   "execution_count": null,
   "id": "fbcbeb24",
   "metadata": {
    "scrolled": true
   },
   "outputs": [],
   "source": [
    "print(data.notnull().sum().sum())"
   ]
  },
  {
   "cell_type": "markdown",
   "id": "483b349d",
   "metadata": {},
   "source": [
    "### Step 8. Calculate the mean windspeeds of the windspeeds over all the locations and all the times.\n",
    "#### A single number for the entire dataset."
   ]
  },
  {
   "cell_type": "code",
   "execution_count": null,
   "id": "a2a230e0",
   "metadata": {},
   "outputs": [],
   "source": [
    "print(data.stack().mean())"
   ]
  },
  {
   "cell_type": "markdown",
   "id": "8c9b33d4",
   "metadata": {},
   "source": [
    "### Step 9. Create a DataFrame called loc_stats and calculate the min, max and mean windspeeds and standard deviations of the windspeeds at each location over all the days \n",
    "\n",
    "#### A different set of numbers for each location."
   ]
  },
  {
   "cell_type": "code",
   "execution_count": null,
   "id": "51d75d2b",
   "metadata": {},
   "outputs": [],
   "source": [
    "loc_stats = data.agg(['min', 'max', 'mean', 'std'])\n",
    "loc_stats"
   ]
  },
  {
   "cell_type": "markdown",
   "id": "91e00153",
   "metadata": {},
   "source": [
    "### Step 10. Create a DataFrame called day_stats and calculate the min, max and mean windspeed and standard deviations of the windspeeds across all the locations at each day.\n",
    "\n",
    "#### A different set of numbers for each day."
   ]
  },
  {
   "cell_type": "code",
   "execution_count": null,
   "id": "bdf6c30f",
   "metadata": {},
   "outputs": [],
   "source": [
    "day_stats = data.agg(['min', 'max', 'mean', 'std'], axis=1)\n",
    "day_stats.head()"
   ]
  },
  {
   "cell_type": "markdown",
   "id": "7c432fea",
   "metadata": {},
   "source": [
    "### Step 11. Find the average windspeed in January for each location.  \n",
    "#### Treat January 1961 and January 1962 both as January."
   ]
  },
  {
   "cell_type": "code",
   "execution_count": null,
   "id": "846c08c1",
   "metadata": {},
   "outputs": [],
   "source": [
    "data[data.index.month == 1].mean()"
   ]
  },
  {
   "cell_type": "markdown",
   "id": "d1c85939",
   "metadata": {},
   "source": [
    "### Step 12. Downsample the record to a yearly frequency for each location."
   ]
  },
  {
   "cell_type": "code",
   "execution_count": null,
   "id": "9d68bbdb",
   "metadata": {},
   "outputs": [],
   "source": [
    "data.resample('YE').mean()"
   ]
  },
  {
   "cell_type": "markdown",
   "id": "5e051d90",
   "metadata": {},
   "source": [
    "### Step 13. Downsample the record to a monthly frequency for each location."
   ]
  },
  {
   "cell_type": "code",
   "execution_count": null,
   "id": "0e63f4d5",
   "metadata": {},
   "outputs": [],
   "source": [
    "data.resample('ME').mean()"
   ]
  },
  {
   "cell_type": "markdown",
   "id": "b63246a8",
   "metadata": {},
   "source": [
    "### Step 14. Downsample the record to a weekly frequency for each location."
   ]
  },
  {
   "cell_type": "code",
   "execution_count": null,
   "id": "7bcf916b",
   "metadata": {},
   "outputs": [],
   "source": [
    "data.resample('W').mean()"
   ]
  },
  {
   "cell_type": "markdown",
   "id": "13417df1",
   "metadata": {},
   "source": [
    "### Step 15. Calculate the min, max and mean windspeeds and standard deviations of the windspeeds across all locations for each week (assume that the first week starts on January 2 1961) for the first 52 weeks."
   ]
  },
  {
   "cell_type": "code",
   "execution_count": null,
   "id": "2af6b19a",
   "metadata": {},
   "outputs": [],
   "source": [
    "weekly_stats = data.resample('W').agg(['min', 'max', 'mean', 'std'])\n",
    "weekly_stats.head(52)"
   ]
  },
  {
   "cell_type": "markdown",
   "id": "2964d3ae",
   "metadata": {},
   "source": [
    "## Section 7: Visualization"
   ]
  },
  {
   "cell_type": "markdown",
   "id": "b31f3d2a",
   "metadata": {},
   "source": [
    "### Introduction:\n",
    "\n",
    "This exercise is based on the titanic Disaster dataset avaiable at [Kaggle](https://www.kaggle.com/c/titanic).  \n",
    "To know more about the variables check [here](https://www.kaggle.com/c/titanic/data)\n",
    "\n",
    "\n",
    "### Step 1. Import the necessary libraries"
   ]
  },
  {
   "cell_type": "code",
   "execution_count": null,
   "id": "af7f3be3",
   "metadata": {},
   "outputs": [],
   "source": [
    "import pandas as pd\n",
    "import matplotlib.pyplot as plt"
   ]
  },
  {
   "cell_type": "markdown",
   "id": "27516d9f",
   "metadata": {},
   "source": [
    "### Step 2. Import the dataset from this [address](https://raw.githubusercontent.com/guipsamora/pandas_exercises/master/07_Visualization/Titanic_Desaster/train.csv)"
   ]
  },
  {
   "cell_type": "code",
   "execution_count": null,
   "id": "b4f61f01",
   "metadata": {},
   "outputs": [],
   "source": [
    "url = 'https://raw.githubusercontent.com/guipsamora/pandas_exercises/master/07_Visualization/Titanic_Desaster/train.csv'\n",
    "df = pd.read_csv(url)"
   ]
  },
  {
   "cell_type": "markdown",
   "id": "cbffa305",
   "metadata": {},
   "source": [
    "### Step 3. Assign it to a variable titanic "
   ]
  },
  {
   "cell_type": "code",
   "execution_count": null,
   "id": "8ee77fc2",
   "metadata": {},
   "outputs": [],
   "source": [
    "titanic = df"
   ]
  },
  {
   "cell_type": "code",
   "execution_count": null,
   "id": "ca49467e",
   "metadata": {},
   "outputs": [],
   "source": [
    "titanic.head()"
   ]
  },
  {
   "cell_type": "markdown",
   "id": "cde83321",
   "metadata": {},
   "source": [
    "### Step 4. Set PassengerId as the index "
   ]
  },
  {
   "cell_type": "code",
   "execution_count": null,
   "id": "2688e8b8",
   "metadata": {},
   "outputs": [],
   "source": [
    "titanic = titanic.set_index('PassengerId')"
   ]
  },
  {
   "cell_type": "markdown",
   "id": "8521c676",
   "metadata": {},
   "source": [
    "### Step 5. Create a pie chart presenting the male/female proportion"
   ]
  },
  {
   "cell_type": "code",
   "execution_count": null,
   "id": "8e733319",
   "metadata": {},
   "outputs": [],
   "source": [
    "titanic['Sex'].value_counts().plot.pie(autopct='%1.1f%%', figsize=(6,6), ylabel='', title='Male/Female Proportion')\n",
    "plt.show()"
   ]
  },
  {
   "cell_type": "markdown",
   "id": "649e4637",
   "metadata": {},
   "source": [
    "### Step 6. Create a scatterplot with the Fare payed and the Age, differ the plot color by gender"
   ]
  },
  {
   "cell_type": "code",
   "execution_count": null,
   "id": "92164732",
   "metadata": {},
   "outputs": [],
   "source": [
    "colors = {'male': 'blue', 'female': 'red'}\n",
    "plt.figure(figsize=(8,6))\n",
    "for gender, color in colors.items():\n",
    "    subset = titanic[titanic['Sex'] == gender]\n",
    "    plt.scatter(subset['Age'], subset['Fare'], c=color, label=gender, alpha=0.5)\n",
    "plt.xlabel('Age')\n",
    "plt.ylabel('Fare')\n",
    "plt.title('Fare Paid vs Age by Gender')\n",
    "plt.legend()\n",
    "plt.show()"
   ]
  },
  {
   "cell_type": "markdown",
   "id": "1adedc10",
   "metadata": {},
   "source": [
    "### Step 7. How many people survived?"
   ]
  },
  {
   "cell_type": "code",
   "execution_count": null,
   "id": "4abad8fb",
   "metadata": {},
   "outputs": [],
   "source": [
    "print(titanic['Survived'].sum())"
   ]
  },
  {
   "cell_type": "markdown",
   "id": "87dac705",
   "metadata": {},
   "source": [
    "### Step 8. Create a histogram with the Fare payed"
   ]
  },
  {
   "cell_type": "code",
   "execution_count": null,
   "id": "bc52c481",
   "metadata": {},
   "outputs": [],
   "source": [
    "titanic['Fare'].plot.hist(bins=30, figsize=(8,6), title='Distribution of Fare')\n",
    "plt.xlabel('Fare')\n",
    "plt.show()"
   ]
  },
  {
   "cell_type": "markdown",
   "id": "d8dbfcaf",
   "metadata": {},
   "source": [
    "### BONUS: Create your own question and answer it."
   ]
  },
  {
   "cell_type": "code",
   "execution_count": null,
   "id": "e13ab414",
   "metadata": {},
   "outputs": [],
   "source": [
    "# What is the average age of survivors vs non-survivors?\n",
    "titanic.groupby('Survived')['Age'].mean()"
   ]
  },
  {
   "cell_type": "markdown",
   "id": "448734a8",
   "metadata": {
    "collapsed": true
   },
   "source": [
    "## Section 8: Creating Series and DataFrames"
   ]
  },
  {
   "cell_type": "markdown",
   "id": "738a181a",
   "metadata": {},
   "source": [
    "### Introduction:\n",
    "\n",
    "This time you will create the data.\n",
    "\n",
    "\n",
    "\n",
    "### Step 1. Import the necessary libraries"
   ]
  },
  {
   "cell_type": "code",
   "execution_count": null,
   "id": "2c1b5c9c",
   "metadata": {},
   "outputs": [],
   "source": [
    "import pandas as pd"
   ]
  },
  {
   "cell_type": "markdown",
   "id": "5bdbd7f3",
   "metadata": {},
   "source": [
    "### Step 2. Create a data dictionary that looks like the DataFrame below"
   ]
  },
  {
   "cell_type": "code",
   "execution_count": null,
   "id": "00bc7623",
   "metadata": {
    "collapsed": true
   },
   "outputs": [],
   "source": [
    "data = {\n",
    "    'name': ['Bulbasaur', 'Charmander', 'Squirtle', 'Caterpie'],\n",
    "    'type': ['grass', 'fire', 'water', 'bug'],\n",
    "    'hp': [45, 39, 44, 45],\n",
    "    'evolution': ['yes', 'yes', 'yes', 'no'],\n",
    "    'pokedex': [1, 4, 7, 10]\n",
    "}"
   ]
  },
  {
   "cell_type": "markdown",
   "id": "5f4768bc",
   "metadata": {},
   "source": [
    "### Step 3. Assign it to a variable called pokemon"
   ]
  },
  {
   "cell_type": "code",
   "execution_count": null,
   "id": "20222f8f",
   "metadata": {},
   "outputs": [],
   "source": [
    "pokemon = pd.DataFrame(data)\n",
    "pokemon.head()"
   ]
  },
  {
   "cell_type": "markdown",
   "id": "c9257b6d",
   "metadata": {},
   "source": [
    "### Step 4. Ops...it seems the DataFrame columns are in alphabetical order. Place  the order of the columns as name, type, hp, evolution, pokedex"
   ]
  },
  {
   "cell_type": "code",
   "execution_count": null,
   "id": "5a6b37f9",
   "metadata": {},
   "outputs": [],
   "source": [
    "pokemon = pokemon[['name', 'type', 'hp', 'evolution', 'pokedex']]\n"
   ]
  },
  {
   "cell_type": "markdown",
   "id": "9f2b0341",
   "metadata": {},
   "source": [
    "### Step 5. Add another column called place, and insert what you have in mind."
   ]
  },
  {
   "cell_type": "code",
   "execution_count": null,
   "id": "90c19f79",
   "metadata": {},
   "outputs": [],
   "source": [
    "pokemon['place'] = ['forest', 'mountain', 'lake', 'forest']\n",
    "pokemon"
   ]
  },
  {
   "cell_type": "markdown",
   "id": "0f594dc0",
   "metadata": {},
   "source": [
    "### Step 6. Present the type of each column"
   ]
  },
  {
   "cell_type": "code",
   "execution_count": null,
   "id": "dfd80172",
   "metadata": {},
   "outputs": [],
   "source": [
    "print(pokemon.dtypes)"
   ]
  },
  {
   "cell_type": "markdown",
   "id": "58e6b8fa",
   "metadata": {},
   "source": [
    "### BONUS: Create your own question and answer it."
   ]
  },
  {
   "cell_type": "code",
   "execution_count": null,
   "id": "6a97fc28",
   "metadata": {},
   "outputs": [],
   "source": [
    "# How many Pokémon have ‘yes’ for evolution?\n",
    "pokemon['evolution'].value_counts()"
   ]
  },
  {
   "cell_type": "markdown",
   "id": "010c5b0f",
   "metadata": {
    "collapsed": true
   },
   "source": [
    "## Section: 9 Time Series"
   ]
  },
  {
   "cell_type": "markdown",
   "id": "e3a0ed0d",
   "metadata": {},
   "source": [
    "### Introduction:\n",
    "\n",
    "We are going to use Apple's stock price.\n",
    "\n",
    "\n",
    "### Step 1. Import the necessary libraries"
   ]
  },
  {
   "cell_type": "code",
   "execution_count": null,
   "id": "d02fb709",
   "metadata": {},
   "outputs": [],
   "source": [
    "import pandas as pd"
   ]
  },
  {
   "cell_type": "markdown",
   "id": "52d58d8c",
   "metadata": {},
   "source": [
    "### Step 2. Import the dataset from this [address](https://raw.githubusercontent.com/guipsamora/pandas_exercises/master/09_Time_Series/Apple_Stock/appl_1980_2014.csv)"
   ]
  },
  {
   "cell_type": "code",
   "execution_count": null,
   "id": "50dd5dc5",
   "metadata": {
    "collapsed": true
   },
   "outputs": [],
   "source": [
    "url = \"https://raw.githubusercontent.com/guipsamora/pandas_exercises/master/09_Time_Series/Apple_Stock/appl_1980_2014.csv\"\n",
    "df = pd.read_csv(url)"
   ]
  },
  {
   "cell_type": "markdown",
   "id": "e4ac4bef",
   "metadata": {},
   "source": [
    "### Step 3. Assign it to a variable apple"
   ]
  },
  {
   "cell_type": "code",
   "execution_count": null,
   "id": "9e1f55b9",
   "metadata": {},
   "outputs": [],
   "source": [
    "apple = df\n",
    "apple.head()"
   ]
  },
  {
   "cell_type": "markdown",
   "id": "6f1765e1",
   "metadata": {},
   "source": [
    "### Step 4.  Check out the type of the columns"
   ]
  },
  {
   "cell_type": "code",
   "execution_count": null,
   "id": "fa9c07c8",
   "metadata": {},
   "outputs": [],
   "source": [
    "apple.dtypes"
   ]
  },
  {
   "cell_type": "markdown",
   "id": "dd76957d",
   "metadata": {},
   "source": [
    "### Step 5. Transform the Date column as a datetime type"
   ]
  },
  {
   "cell_type": "code",
   "execution_count": null,
   "id": "2a5f2d68",
   "metadata": {},
   "outputs": [],
   "source": [
    "apple['Date'] = pd.to_datetime(apple['Date'])\n",
    "apple.dtypes"
   ]
  },
  {
   "cell_type": "markdown",
   "id": "d637aead",
   "metadata": {},
   "source": [
    "### Step 6.  Set the date as the index"
   ]
  },
  {
   "cell_type": "code",
   "execution_count": null,
   "id": "235b98a5",
   "metadata": {},
   "outputs": [],
   "source": [
    "apple = apple.set_index('Date')\n",
    "apple.head()"
   ]
  },
  {
   "cell_type": "markdown",
   "id": "e92d4a7b",
   "metadata": {},
   "source": [
    "### Step 7.  Is there any duplicate dates?"
   ]
  },
  {
   "cell_type": "code",
   "execution_count": null,
   "id": "a94454ad",
   "metadata": {},
   "outputs": [],
   "source": [
    "print(apple.index.duplicated().any())"
   ]
  },
  {
   "cell_type": "markdown",
   "id": "0066ff8e",
   "metadata": {},
   "source": [
    "### Step 8.  Ops...it seems the index is from the most recent date. Make the first entry the oldest date."
   ]
  },
  {
   "cell_type": "code",
   "execution_count": null,
   "id": "6ed4a7da",
   "metadata": {},
   "outputs": [],
   "source": [
    "apple = apple.sort_index()\n",
    "apple.head()"
   ]
  },
  {
   "cell_type": "markdown",
   "id": "a13a11f8",
   "metadata": {},
   "source": [
    "### Step 9. Get the last business day of each month"
   ]
  },
  {
   "cell_type": "code",
   "execution_count": null,
   "id": "8e9ed699",
   "metadata": {},
   "outputs": [],
   "source": [
    "apple.resample('BME').last().head()"
   ]
  },
  {
   "cell_type": "markdown",
   "id": "e2451020",
   "metadata": {},
   "source": [
    "### Step 10.  What is the difference in days between the first day and the oldest"
   ]
  },
  {
   "cell_type": "code",
   "execution_count": null,
   "id": "026edead",
   "metadata": {},
   "outputs": [],
   "source": [
    "(apple.index[-1] - apple.index[0]).days"
   ]
  },
  {
   "cell_type": "markdown",
   "id": "8cd014a7",
   "metadata": {},
   "source": [
    "### Step 11.  How many months in the data we have?"
   ]
  },
  {
   "cell_type": "code",
   "execution_count": null,
   "id": "6bca3e15",
   "metadata": {},
   "outputs": [],
   "source": [
    "apple.resample('ME').size().shape[0]"
   ]
  },
  {
   "cell_type": "markdown",
   "id": "cfeb4420",
   "metadata": {},
   "source": [
    "### Step 12. Plot the 'Adj Close' value. Set the size of the figure to 13.5 x 9 inches"
   ]
  },
  {
   "cell_type": "code",
   "execution_count": null,
   "id": "da000518",
   "metadata": {},
   "outputs": [],
   "source": [
    "import matplotlib.pyplot as plt\n",
    "\n",
    "plt.figure(figsize=(13.5, 9))\n",
    "apple['Adj Close'].plot(title='Apple Adj Close Price Over Time')\n",
    "plt.xlabel('Date')\n",
    "plt.ylabel('Adjusted Close')\n",
    "plt.show()"
   ]
  },
  {
   "cell_type": "markdown",
   "id": "cfb95842",
   "metadata": {},
   "source": [
    "## Section 10: Deleting"
   ]
  },
  {
   "cell_type": "markdown",
   "id": "62720a79",
   "metadata": {},
   "source": [
    "### Introduction:\n",
    "\n",
    "This exercise is a adaptation from the UCI Wine dataset.\n",
    "The only pupose is to practice deleting data with pandas.\n",
    "\n",
    "### Step 1. Import the necessary libraries"
   ]
  },
  {
   "cell_type": "code",
   "execution_count": null,
   "id": "31518cc9",
   "metadata": {},
   "outputs": [],
   "source": [
    "import pandas as pd\n",
    "import numpy as np"
   ]
  },
  {
   "cell_type": "markdown",
   "id": "564bb9ac",
   "metadata": {},
   "source": [
    "### Step 2. Import the dataset from this [address](https://archive.ics.uci.edu/ml/machine-learning-databases/wine/wine.data). "
   ]
  },
  {
   "cell_type": "code",
   "execution_count": null,
   "id": "2e7a9a1a",
   "metadata": {},
   "outputs": [],
   "source": [
    "url = 'https://archive.ics.uci.edu/ml/machine-learning-databases/wine/wine.data'\n",
    "df = pd.read_csv(url, header=None)\n",
    "df.head()"
   ]
  },
  {
   "cell_type": "markdown",
   "id": "1f1f95a2",
   "metadata": {},
   "source": [
    "### Step 3. Assign it to a variable called wine"
   ]
  },
  {
   "cell_type": "code",
   "execution_count": null,
   "id": "4e130c72",
   "metadata": {},
   "outputs": [],
   "source": [
    "wine = df"
   ]
  },
  {
   "cell_type": "markdown",
   "id": "0c41d696",
   "metadata": {},
   "source": [
    "### Step 4. Delete the first, fourth, seventh, nineth, eleventh, thirteenth and fourteenth columns"
   ]
  },
  {
   "cell_type": "code",
   "execution_count": null,
   "id": "da66b0f2",
   "metadata": {},
   "outputs": [],
   "source": [
    "cols_to_drop = [0, 3, 6, 8, 10, 12, 13]\n",
    "wine = wine.drop(wine.columns[cols_to_drop], axis=1)\n",
    "wine.head()"
   ]
  },
  {
   "cell_type": "markdown",
   "id": "c5a0fe9a",
   "metadata": {},
   "source": [
    "### Step 5. Assign the columns as below:\n",
    "\n",
    "The attributes are (donated by Riccardo Leardi, riclea '@' anchem.unige.it):  \n",
    "1) alcohol  \n",
    "2) malic_acid  \n",
    "3) alcalinity_of_ash  \n",
    "4) magnesium  \n",
    "5) flavanoids  \n",
    "6) proanthocyanins  \n",
    "7) hue "
   ]
  },
  {
   "cell_type": "code",
   "execution_count": null,
   "id": "ce18c3cd",
   "metadata": {},
   "outputs": [],
   "source": [
    "wine.columns = [\n",
    "    'alcohol',\n",
    "    'malic_acid',\n",
    "    'alcalinity_of_ash',\n",
    "    'magnesium',\n",
    "    'flavanoids',\n",
    "    'proanthocyanins',\n",
    "    'hue'\n",
    "]\n",
    "wine.head()"
   ]
  },
  {
   "cell_type": "markdown",
   "id": "94b22358",
   "metadata": {},
   "source": [
    "### Step 6. Set the values of the first 3 rows from alcohol as NaN"
   ]
  },
  {
   "cell_type": "code",
   "execution_count": null,
   "id": "6dacd432",
   "metadata": {},
   "outputs": [],
   "source": [
    "wine.loc[:2, 'alcohol'] = np.nan\n",
    "wine.head()"
   ]
  },
  {
   "cell_type": "markdown",
   "id": "2449e0ac",
   "metadata": {},
   "source": [
    "### Step 7. Now set the value of the rows 3 and 4 of magnesium as NaN"
   ]
  },
  {
   "cell_type": "code",
   "execution_count": null,
   "id": "8e659f67",
   "metadata": {},
   "outputs": [],
   "source": [
    "wine.loc[2:3, 'magnesium'] = np.nan\n",
    "wine.head()"
   ]
  },
  {
   "cell_type": "markdown",
   "id": "135f1b41",
   "metadata": {},
   "source": [
    "### Step 8. Fill the value of NaN with the number 10 in alcohol and 100 in magnesium"
   ]
  },
  {
   "cell_type": "code",
   "execution_count": null,
   "id": "bdb57870",
   "metadata": {},
   "outputs": [],
   "source": [
    "wine['alcohol'] = wine['alcohol'].fillna(10)\n",
    "wine['magnesium'] = wine['magnesium'].fillna(100)\n",
    "wine.head()"
   ]
  },
  {
   "cell_type": "markdown",
   "id": "5b07a6f4",
   "metadata": {},
   "source": [
    "### Step 9. Count the number of missing values"
   ]
  },
  {
   "cell_type": "code",
   "execution_count": null,
   "id": "b8f9f565",
   "metadata": {},
   "outputs": [],
   "source": [
    "print(wine.isna().sum().sum())"
   ]
  },
  {
   "cell_type": "markdown",
   "id": "e41bc334",
   "metadata": {},
   "source": [
    "### Step 10.  Create an array of 10 random numbers up until 10"
   ]
  },
  {
   "cell_type": "code",
   "execution_count": null,
   "id": "437d0084",
   "metadata": {},
   "outputs": [],
   "source": [
    "rand_idx = np.random.choice(wine.index[:10], size=10, replace=False)\n",
    "print(rand_idx)"
   ]
  },
  {
   "cell_type": "markdown",
   "id": "498e2cad",
   "metadata": {},
   "source": [
    "### Step 11.  Use random numbers you generated as an index and assign NaN value to each of cell."
   ]
  },
  {
   "cell_type": "code",
   "execution_count": null,
   "id": "cd1ba6ef",
   "metadata": {},
   "outputs": [],
   "source": [
    "wine.loc[rand_idx] = np.nan\n",
    "wine.head(15)"
   ]
  },
  {
   "cell_type": "markdown",
   "id": "ae9adea8",
   "metadata": {},
   "source": [
    "### Step 12.  How many missing values do we have?"
   ]
  },
  {
   "cell_type": "code",
   "execution_count": null,
   "id": "5bfe2ca7",
   "metadata": {},
   "outputs": [],
   "source": [
    "print(wine.isna().sum().sum())"
   ]
  },
  {
   "cell_type": "markdown",
   "id": "e1930d56",
   "metadata": {},
   "source": [
    "### Step 13. Delete the rows that contain missing values"
   ]
  },
  {
   "cell_type": "code",
   "execution_count": null,
   "id": "c3458689",
   "metadata": {},
   "outputs": [],
   "source": [
    "wine = wine.dropna()\n",
    "wine.head()"
   ]
  },
  {
   "cell_type": "markdown",
   "id": "0730ca32",
   "metadata": {},
   "source": [
    "### Step 14. Print only the non-null values in alcohol"
   ]
  },
  {
   "cell_type": "code",
   "execution_count": null,
   "id": "71e0aa4d",
   "metadata": {},
   "outputs": [],
   "source": [
    "print(wine['alcohol'].dropna())"
   ]
  },
  {
   "cell_type": "markdown",
   "id": "1d3b99c6",
   "metadata": {},
   "source": [
    "### Step 15.  Reset the index, so it starts with 0 again"
   ]
  },
  {
   "cell_type": "code",
   "execution_count": null,
   "id": "4b240c6a",
   "metadata": {},
   "outputs": [],
   "source": [
    "wine = wine.reset_index(drop=True)\n",
    "wine.head(15)"
   ]
  }
 ],
 "metadata": {
  "kernelspec": {
   "display_name": "base",
   "language": "python",
   "name": "python3"
  },
  "language_info": {
   "codemirror_mode": {
    "name": "ipython",
    "version": 3
   },
   "file_extension": ".py",
   "mimetype": "text/x-python",
   "name": "python",
   "nbconvert_exporter": "python",
   "pygments_lexer": "ipython3",
   "version": "3.13.2"
  }
 },
 "nbformat": 4,
 "nbformat_minor": 5
}
